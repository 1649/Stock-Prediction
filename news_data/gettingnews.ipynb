{
 "cells": [
  {
   "cell_type": "code",
   "execution_count": 8,
   "metadata": {
    "ExecuteTime": {
     "end_time": "2017-12-02T03:36:42.152398Z",
     "start_time": "2017-12-02T03:36:42.147638Z"
    }
   },
   "outputs": [],
   "source": [
    "from bs4 import BeautifulSoup\n",
    "import datetime\n",
    "import pickle\n",
    "import requests\n",
    "import random"
   ]
  },
  {
   "cell_type": "code",
   "execution_count": 9,
   "metadata": {
    "ExecuteTime": {
     "end_time": "2017-12-02T03:36:42.889063Z",
     "start_time": "2017-12-02T03:36:42.722250Z"
    }
   },
   "outputs": [],
   "source": [
    "def getNewsForWeek(date):\n",
    "    thedate = date\n",
    "    print(\"important:\" + thedate.strftime('%Y-%m-%d'))\n",
    "    file = open('data/news/' + thedate.strftime('%Y-%m-%d') + '.csv', 'w')\n",
    "    file.write(\"Ticker,Headlines\")\n",
    "    file.write('\\n')\n",
    "\n",
    "    print(\"FILE:\" + 'data/news/' + thedate.strftime('%Y-%m-%d') + '.csv', 'w')\n",
    "    for i in range(len(stocks)):\n",
    "        allnews = \"\"\n",
    "        for j in range(7):\n",
    "            thedate = date\n",
    "            thedate += datetime.timedelta(days=j)\n",
    "            #print('Getting news for ' + thedate.strftime('%Y-%m-%d'))\n",
    "            query = 'http://www.reuters.com/finance/stocks/company-news/' + stocks[i] + '.O' + '?date=' + format(thedate.month, '02d') + format(thedate.day, '02d') + str(thedate.year)\n",
    "            #print(query)\n",
    "            #print('Getting news for ' + stocks[i])\n",
    "\n",
    "            response = requests.get(query)\n",
    "            soup = BeautifulSoup(response.text, \"html.parser\")\n",
    "            divs = soup.findAll('div', {'class': 'feature'})\n",
    "            divs2 = soup.findAll('div', {'class': 'topStory'})\n",
    "            #print('Found ' + str(len(divs) + len(divs2)) + ' articles.')\n",
    "\n",
    "\n",
    "            if(len(divs) == 0 and len(divs2) == 0):\n",
    "                continue\n",
    "            #data = u'' \n",
    "            data = []\n",
    "\n",
    "\n",
    "            for div in divs:\n",
    "                test = div.findAll(text=True)[0]\n",
    "                data = data + [test]\n",
    "                #data = data.join(div.findAll(text=True))\n",
    "            #news = data.split('\\n')[0]\n",
    "            #news = news.strip().replace(',','')\n",
    "            news = data\n",
    "\n",
    "            data2 = u''\n",
    "\n",
    "            for div in divs2:\n",
    "                data2 = data2.join(div.findAll(text=True))\n",
    "\n",
    "            news2 = data2\n",
    "            news2 = news2.replace('\\n', \"--\")\n",
    "            test = news2.split(\"--\")\n",
    "            for j in range(len(test)):\n",
    "                if test[j] != \"\" and test[j] != \"Continue Reading\" :\n",
    "                    news2 = test[j]\n",
    "                    break\n",
    "\n",
    "            news = news + [news2]\n",
    "            for k in range(len(news)):\n",
    "                news[k] = news[k].replace(\",\", \"\")\n",
    "            news = \"|\".join(news) \n",
    "            #print(news)\n",
    "            #news = data.strip().split('\\n')\n",
    "            #news = data.strip().replace('\\n',' ').split(' ')\n",
    "            #news = \" \".join(news)\n",
    "            allnews = allnews + \"|\" + news\n",
    "    \n",
    "\n",
    "        #print(allnews)\n",
    "        file.write(stocks[i] +   ',' + allnews[1:])\n",
    "        file.write('\\n')\n",
    "        thedate += datetime.timedelta(days=-7)\n",
    "    file.close()\n"
   ]
  },
  {
   "cell_type": "code",
   "execution_count": 16,
   "metadata": {
    "ExecuteTime": {
     "end_time": "2017-12-02T04:18:03.542825Z",
     "start_time": "2017-12-02T04:18:03.534489Z"
    }
   },
   "outputs": [],
   "source": [
    "def getNews():\n",
    "    endDate = datetime.date.today()\n",
    "    date = endDate\n",
    "    date += datetime.timedelta(days=-365 * 8 + -336 + 200 * 7)\n",
    "    print(date)\n",
    "    while(date <= endDate):\n",
    "        getNewsForWeek(date)\n",
    "        date += datetime.timedelta(days=7)\n",
    "\n"
   ]
  },
  {
   "cell_type": "code",
   "execution_count": null,
   "metadata": {
    "ExecuteTime": {
     "start_time": "2017-12-02T04:18:03.877Z"
    }
   },
   "outputs": [
    {
     "name": "stdout",
     "output_type": "stream",
     "text": [
      "2012-11-01\n",
      "important:2012-11-01\n",
      "FILE:data/news/2012-11-01.csv w\n",
      "important:2012-11-08\n",
      "FILE:data/news/2012-11-08.csv w\n",
      "important:2012-11-15\n",
      "FILE:data/news/2012-11-15.csv w\n",
      "important:2012-11-22\n",
      "FILE:data/news/2012-11-22.csv w\n",
      "important:2012-11-29\n",
      "FILE:data/news/2012-11-29.csv w\n",
      "important:2012-12-06\n",
      "FILE:data/news/2012-12-06.csv w\n",
      "important:2012-12-13\n",
      "FILE:data/news/2012-12-13.csv w\n",
      "important:2012-12-20\n",
      "FILE:data/news/2012-12-20.csv w\n",
      "important:2012-12-27\n",
      "FILE:data/news/2012-12-27.csv w\n",
      "important:2013-01-03\n",
      "FILE:data/news/2013-01-03.csv w\n",
      "important:2013-01-10\n",
      "FILE:data/news/2013-01-10.csv w\n",
      "important:2013-01-17\n",
      "FILE:data/news/2013-01-17.csv w\n",
      "important:2013-01-24\n",
      "FILE:data/news/2013-01-24.csv w\n",
      "important:2013-01-31\n",
      "FILE:data/news/2013-01-31.csv w\n",
      "important:2013-02-07\n",
      "FILE:data/news/2013-02-07.csv w\n",
      "important:2013-02-14\n",
      "FILE:data/news/2013-02-14.csv w\n"
     ]
    }
   ],
   "source": [
    "FNAME = \"snp500_formatted.txt\"\n",
    "stocks = []\n",
    "with open(FNAME) as f:\n",
    "    stocks = f.readlines()\n",
    "for i in range(len(stocks)):\n",
    "    stocks[i] = stocks[i].rstrip('\\n')\n",
    "#stocks = [\"MSFT\", \"GOOGL\", \"AAPL\", \"TSLA\", \"WDC\", \"RAD\", \"BAC\", \"F\", \"GE\", \"T\", \"M\", \"WFC\", \"JCP\", \"KR\", \"GM\", \"KO\", \"DIS\", \"SWN\", \"PFE\", \"WMT\" ]\n",
    "stocks = ['AAPL']\n",
    "getNews()"
   ]
  },
  {
   "cell_type": "code",
   "execution_count": null,
   "metadata": {},
   "outputs": [],
   "source": []
  },
  {
   "cell_type": "code",
   "execution_count": null,
   "metadata": {},
   "outputs": [],
   "source": []
  }
 ],
 "metadata": {
  "anaconda-cloud": {},
  "kernelspec": {
   "display_name": "Python [default]",
   "language": "python",
   "name": "python3"
  },
  "language_info": {
   "codemirror_mode": {
    "name": "ipython",
    "version": 3
   },
   "file_extension": ".py",
   "mimetype": "text/x-python",
   "name": "python",
   "nbconvert_exporter": "python",
   "pygments_lexer": "ipython3",
   "version": "3.5.4"
  },
  "toc": {
   "nav_menu": {},
   "number_sections": true,
   "sideBar": true,
   "skip_h1_title": false,
   "toc_cell": false,
   "toc_position": {},
   "toc_section_display": "block",
   "toc_window_display": false
  }
 },
 "nbformat": 4,
 "nbformat_minor": 2
}
