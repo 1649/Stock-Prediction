{
 "cells": [
  {
   "cell_type": "code",
   "execution_count": 14,
   "metadata": {
    "collapsed": true
   },
   "outputs": [],
   "source": [
    "from __future__ import division\n",
    "import numpy as np\n",
    "import pandas as pd\n",
    "import matplotlib.pyplot as plt\n",
    "from keras.layers.core import Dense, Activation, Dropout\n",
    "from keras.layers.recurrent import LSTM\n",
    "from keras.models import Sequential"
   ]
  },
  {
   "cell_type": "code",
   "execution_count": 143,
   "metadata": {},
   "outputs": [
    {
     "data": {
      "text/plain": [
       "array([ 0.,  1.,  2.])"
      ]
     },
     "execution_count": 143,
     "metadata": {},
     "output_type": "execute_result"
    }
   ],
   "source": [
    "normalize([1,2,3])"
   ]
  },
  {
   "cell_type": "code",
   "execution_count": 144,
   "metadata": {},
   "outputs": [
    {
     "data": {
      "text/plain": [
       "3.0"
      ]
     },
     "execution_count": 144,
     "metadata": {},
     "output_type": "execute_result"
    }
   ],
   "source": [
    "normalize(4, 1)"
   ]
  },
  {
   "cell_type": "code",
   "execution_count": 140,
   "metadata": {},
   "outputs": [],
   "source": [
    "def normalize(array, startprice=None):\n",
    "    ''' go from stock price to return; if no startprice given, assume first entry '''\n",
    "    array = np.array(array)\n",
    "    init = startprice if startprice is not None else array[0]\n",
    "    return (array/init) - 1\n",
    "\n",
    "def denormalize(array, startprice):\n",
    "    ''' go from return on investment to stock price '''\n",
    "    return startprice*(array+1)\n",
    "\n",
    "def load_stock(colnum=1, lookback=50, shuffle_train=True, filename='stocks.csv'):\n",
    "    ''' load training and test data for a specific stock '''\n",
    "    data = pd.read_csv('stocks.csv', usecols=[colnum]).values[:,0]\n",
    "    X_train, y_train, X_valid, y_valid, X_test, y_test = [], [], [], [], [], []\n",
    "    for i in range(data.shape[0]-lookback):\n",
    "        x_curr, y_curr = normalize(data[i:i+lookback]), normalize(data[i+lookback], data[i])\n",
    "        if i < .6*(data.shape[0]-lookback): #training set, 60%\n",
    "            X_train.append(x_curr)\n",
    "            y_train.append(y_curr)\n",
    "        elif i < .8*(data.shape[0]-lookback): #validation set, 20%\n",
    "            X_valid.append(x_curr)\n",
    "            y_valid.append(y_curr)\n",
    "        else: #test set, 20%\n",
    "            X_test.append(x_curr)\n",
    "            y_test.append(y_curr)\n",
    "    if shuffle_train: #shuffle training set\n",
    "        idx = range(len(X_train))\n",
    "        np.random.shuffle(idx)\n",
    "        X_train = np.array(X_train)[idx,:]\n",
    "        y_train = np.array(y_train)[idx]\n",
    "    return np.array(X_train), np.array(y_train), \\\n",
    "           np.array(X_valid), np.array(y_valid), \\\n",
    "           np.array(X_test), np.array(y_test)\n",
    "\n",
    "# load practice stock, AAPL\n",
    "lookback = 50\n",
    "X_train, y_train, X_valid, y_valid, X_test, y_test = load_stock(colnum=1, lookback=lookback, shuffle_train=False)"
   ]
  },
  {
   "cell_type": "code",
   "execution_count": null,
   "metadata": {
    "collapsed": true
   },
   "outputs": [],
   "source": []
  },
  {
   "cell_type": "code",
   "execution_count": 146,
   "metadata": {},
   "outputs": [
    {
     "data": {
      "image/png": "[encoded data removed]",
      "text/plain": [
       "<matplotlib.figure.Figure at 0x1339d1e10>"
      ]
     },
     "metadata": {},
     "output_type": "display_data"
    }
   ],
   "source": [
    "plt.plot(y_test)\n",
    "plt.show()"
   ]
  },
  {
   "cell_type": "code",
   "execution_count": 142,
   "metadata": {},
   "outputs": [
    {
     "data": {
      "text/plain": [
       "array([ 0.00133509,  0.01011193, -0.0099701 , ...,  0.16844549,\n",
       "        0.13692019,  0.13105972])"
      ]
     },
     "execution_count": 142,
     "metadata": {},
     "output_type": "execute_result"
    }
   ],
   "source": [
    "y_train"
   ]
  },
  {
   "cell_type": "code",
   "execution_count": 141,
   "metadata": {},
   "outputs": [
    {
     "data": {
      "text/plain": [
       "array([[ 0.        ,  0.00521896,  0.01344178, ...,  0.06802803,\n",
       "         0.07279182,  0.04812326],\n",
       "       [ 0.        ,  0.00818013,  0.00736508, ...,  0.06722204,\n",
       "         0.04268155, -0.0038637 ],\n",
       "       [ 0.        , -0.00080844,  0.00634728, ...,  0.03422149,\n",
       "        -0.01194611,  0.00191613],\n",
       "       ..., \n",
       "       [ 0.        ,  0.03842226,  0.03953598, ...,  0.17902553,\n",
       "         0.19229699,  0.18329466],\n",
       "       [ 0.        ,  0.00107251, -0.02359459, ...,  0.14818127,\n",
       "         0.13951203,  0.12521229],\n",
       "       [ 0.        , -0.02464067, -0.01598072, ...,  0.1382912 ,\n",
       "         0.12400678,  0.13570214]])"
      ]
     },
     "execution_count": 141,
     "metadata": {},
     "output_type": "execute_result"
    }
   ],
   "source": [
    "X_train"
   ]
  },
  {
   "cell_type": "code",
   "execution_count": 134,
   "metadata": {},
   "outputs": [],
   "source": [
    "# build model\n",
    "model = Sequential()\n",
    "model.add(LSTM(input_shape=(None,1), units=lookback, return_sequences=True))\n",
    "model.add(Dropout(0.2))\n",
    "model.add(LSTM(100, return_sequences=False))\n",
    "model.add(Dropout(0.2))\n",
    "model.add(Dense(units=1))\n",
    "model.add(Activation('linear'))\n",
    "model.compile(loss='mse', optimizer='rmsprop')"
   ]
  },
  {
   "cell_type": "code",
   "execution_count": 136,
   "metadata": {},
   "outputs": [
    {
     "name": "stdout",
     "output_type": "stream",
     "text": [
      "Train on 961 samples, validate on 51 samples\n",
      "Epoch 1/10\n",
      "961/961 [==============================] - 1s 1ms/step - loss: 5477.7770 - val_loss: 13690.3232\n",
      "Epoch 2/10\n",
      "961/961 [==============================] - 1s 1ms/step - loss: 5137.5820 - val_loss: 13253.0664\n",
      "Epoch 3/10\n",
      "961/961 [==============================] - 1s 1ms/step - loss: 4886.3632 - val_loss: 12859.2031\n",
      "Epoch 4/10\n",
      "961/961 [==============================] - 1s 1ms/step - loss: 4671.1126 - val_loss: 12521.5283\n",
      "Epoch 5/10\n",
      "961/961 [==============================] - 1s 1ms/step - loss: 4484.1795 - val_loss: 12247.6436\n",
      "Epoch 6/10\n",
      "961/961 [==============================] - 1s 1ms/step - loss: 4330.3511 - val_loss: 12045.8203\n",
      "Epoch 7/10\n",
      "961/961 [==============================] - 1s 1ms/step - loss: 4225.8960 - val_loss: 11909.2598\n",
      "Epoch 8/10\n",
      "961/961 [==============================] - 1s 1ms/step - loss: 4155.8110 - val_loss: 11802.3447\n",
      "Epoch 9/10\n",
      "961/961 [==============================] - 1s 1ms/step - loss: 4089.9427 - val_loss: 11721.1592\n",
      "Epoch 10/10\n",
      "961/961 [==============================] - 1s 1ms/step - loss: 4050.6892 - val_loss: 11653.8164\n"
     ]
    },
    {
     "data": {
      "text/plain": [
       "<keras.callbacks.History at 0x132f69bd0>"
      ]
     },
     "execution_count": 136,
     "metadata": {},
     "output_type": "execute_result"
    }
   ],
   "source": [
    "# fit model\n",
    "model.fit(\n",
    "    X_train.reshape(X_train.shape[0],X_train.shape[1],1),\n",
    "    y_train,\n",
    "    batch_size=512,\n",
    "    nb_epoch=10,\n",
    "    validation_split=0.05)"
   ]
  },
  {
   "cell_type": "code",
   "execution_count": null,
   "metadata": {
    "collapsed": true
   },
   "outputs": [],
   "source": []
  }
 ],
 "metadata": {
  "kernelspec": {
   "display_name": "Python [Root]",
   "language": "python",
   "name": "Python [Root]"
  },
  "language_info": {
   "codemirror_mode": {
    "name": "ipython",
    "version": 2
   },
   "file_extension": ".py",
   "mimetype": "text/x-python",
   "name": "python",
   "nbconvert_exporter": "python",
   "pygments_lexer": "ipython2",
   "version": "2.7.13"
  }
 },
 "nbformat": 4,
 "nbformat_minor": 2
}
